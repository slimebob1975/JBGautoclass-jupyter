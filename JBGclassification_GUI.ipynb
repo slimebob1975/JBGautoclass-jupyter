{
 "cells": [
  {
   "cell_type": "code",
   "execution_count": 1,
   "id": "70e8f5c3-dc5b-4752-9c12-28740a7d443f",
   "metadata": {
    "jupyter": {
     "source_hidden": true
    },
    "tags": []
   },
   "outputs": [
    {
     "data": {
      "application/vnd.jupyter.widget-view+json": {
       "model_id": "c0672de534c14ca980e95ac4064c2c30",
       "version_major": 2,
       "version_minor": 0
      },
      "text/plain": [
       "Image(value=b'\\x89PNG\\r\\n\\x1a\\n\\x00\\x00\\x00\\rIHDR\\x00\\x00\\x00d\\x00\\x00\\x00I\\x08\\x06\\x00\\x00\\x00\\xcb\\xd0\\x83\\xb…"
      ]
     },
     "metadata": {},
     "output_type": "display_data"
    },
    {
     "data": {
      "application/vnd.jupyter.widget-view+json": {
       "model_id": "1b7cc1c917014b31bb7b2d3afd75dcf1",
       "version_major": 2,
       "version_minor": 0
      },
      "text/plain": [
       "HTML(value='<h1>Welcome to JBG automatic classification!</h1>')"
      ]
     },
     "metadata": {},
     "output_type": "display_data"
    },
    {
     "data": {
      "application/vnd.jupyter.widget-view+json": {
       "model_id": "22cce23ee86b45b7bee2258721a04d67",
       "version_major": 2,
       "version_minor": 0
      },
      "text/plain": [
       "Text(value='default', description='Project name:', description_tooltip='Enter a distinct project name for the …"
      ]
     },
     "metadata": {},
     "output_type": "display_data"
    },
    {
     "data": {
      "application/vnd.jupyter.widget-view+json": {
       "model_id": "f773ab73dd4042bb9f0a8cafb4ef2d11",
       "version_major": 2,
       "version_minor": 0
      },
      "text/plain": [
       "Dropdown(description='Catalogs:', description_tooltip='These are the catalogs of choice', options=('', 'AF', '…"
      ]
     },
     "metadata": {},
     "output_type": "display_data"
    },
    {
     "data": {
      "application/vnd.jupyter.widget-view+json": {
       "model_id": "e4b47102c64246b38fde42823341d16f",
       "version_major": 2,
       "version_minor": 0
      },
      "text/plain": [
       "Dropdown(description='Tables:', description_tooltip='These are the tables of choice', disabled=True, options=(…"
      ]
     },
     "metadata": {},
     "output_type": "display_data"
    },
    {
     "data": {
      "application/vnd.jupyter.widget-view+json": {
       "model_id": "79506a03fac54f04ac82909eb36fbd75",
       "version_major": 2,
       "version_minor": 0
      },
      "text/plain": [
       "Dropdown(description='Models:', description_tooltip='You can train a new model or use a previously trained one…"
      ]
     },
     "metadata": {},
     "output_type": "display_data"
    },
    {
     "data": {
      "application/vnd.jupyter.widget-view+json": {
       "model_id": "5956a072dceb4c4bafa6e180664946ed",
       "version_major": 2,
       "version_minor": 0
      },
      "text/plain": [
       "Box(children=(RadioButtons(description='Class:', description_tooltip='Pick the column to use as class label', …"
      ]
     },
     "metadata": {},
     "output_type": "display_data"
    },
    {
     "data": {
      "application/vnd.jupyter.widget-view+json": {
       "model_id": "68b693c94fad4587960f608f14ad967f",
       "version_major": 2,
       "version_minor": 0
      },
      "text/plain": [
       "HTML(value='<em>Class summary</em>: N/A')"
      ]
     },
     "metadata": {},
     "output_type": "display_data"
    },
    {
     "data": {
      "application/vnd.jupyter.widget-view+json": {
       "model_id": "3b2a1e5304164bce9ea23ce8b97766c9",
       "version_major": 2,
       "version_minor": 0
      },
      "text/plain": [
       "Button(button_style='primary', description='Continue', disabled=True, icon='forward', style=ButtonStyle(), too…"
      ]
     },
     "metadata": {},
     "output_type": "display_data"
    },
    {
     "data": {
      "application/vnd.jupyter.widget-view+json": {
       "model_id": "df3e212f0050481aae4638bfb764f0b9",
       "version_major": 2,
       "version_minor": 0
      },
      "text/plain": [
       "HBox(children=(Checkbox(value=False, description='Mode: Train', description_tooltip='A new model will be train…"
      ]
     },
     "metadata": {},
     "output_type": "display_data"
    },
    {
     "data": {
      "application/vnd.jupyter.widget-view+json": {
       "model_id": "d8d3947ef66041cd9eb73d3e6073dfab",
       "version_major": 2,
       "version_minor": 0
      },
      "text/plain": [
       "Box(children=(SelectMultiple(description='Preprocess:', description_tooltip='Pick which data preprocessors to …"
      ]
     },
     "metadata": {},
     "output_type": "display_data"
    },
    {
     "data": {
      "application/vnd.jupyter.widget-view+json": {
       "model_id": "c6b122897f7349bdbdf39adbc6400c11",
       "version_major": 2,
       "version_minor": 0
      },
      "text/plain": [
       "HBox(children=(Checkbox(value=False, description='SMOTE', description_tooltip='Use SMOTE (synthetic minority o…"
      ]
     },
     "metadata": {},
     "output_type": "display_data"
    },
    {
     "data": {
      "application/vnd.jupyter.widget-view+json": {
       "model_id": "9986248f81a940d686f4023f1b3accee",
       "version_major": 2,
       "version_minor": 0
      },
      "text/plain": [
       "HBox(children=(Checkbox(value=True, description='Text: Categorize', description_tooltip='Use categorization on…"
      ]
     },
     "metadata": {},
     "output_type": "display_data"
    },
    {
     "data": {
      "application/vnd.jupyter.widget-view+json": {
       "model_id": "f843788d5ee44a3ca28080596ec99a40",
       "version_major": 2,
       "version_minor": 0
      },
      "text/plain": [
       "HBox(children=(IntText(value=0, description='Data limit:', description_tooltip='During debugging or testing, l…"
      ]
     },
     "metadata": {},
     "output_type": "display_data"
    },
    {
     "data": {
      "application/vnd.jupyter.widget-view+json": {
       "model_id": "25160147669644b3a9540bef4f22490f",
       "version_major": 2,
       "version_minor": 0
      },
      "text/plain": [
       "Button(button_style='primary', description='Start', disabled=True, icon='check', style=ButtonStyle(), tooltip=…"
      ]
     },
     "metadata": {},
     "output_type": "display_data"
    },
    {
     "data": {
      "application/vnd.jupyter.widget-view+json": {
       "model_id": "1648cf0f38824af4be92cd4472ba953d",
       "version_major": 2,
       "version_minor": 0
      },
      "text/plain": [
       "HBox(children=(FloatProgress(value=0.0, bar_style='info', description='Progress:', description_tooltip='The co…"
      ]
     },
     "metadata": {},
     "output_type": "display_data"
    },
    {
     "data": {
      "application/vnd.jupyter.widget-view+json": {
       "model_id": "b884e56c79554b49ac05d176976dc350",
       "version_major": 2,
       "version_minor": 0
      },
      "text/plain": [
       "Output(layout=Layout(border='2px solid grey', overflow='scroll'))"
      ]
     },
     "metadata": {},
     "output_type": "display_data"
    }
   ],
   "source": [
    "try:\n",
    "    import src.JBGclassification.GUIHandler as GUIHandler\n",
    "\n",
    "    # Create GUI object\n",
    "    gui = GUIHandler.GUIHandler()\n",
    "    gui.display_gui()\n",
    "except FileNotFoundError:\n",
    "    print(\".env file with variables missing.\")\n",
    "except ModuleNotFoundError as ex:\n",
    "    print(\"You need to install some modules: {0}\".format(str(ex)))"
   ]
  }
 ],
 "metadata": {
  "kernelspec": {
   "display_name": "Python 3 (ipykernel)",
   "language": "python",
   "name": "python3"
  },
  "language_info": {
   "codemirror_mode": {
    "name": "ipython",
    "version": 3
   },
   "file_extension": ".py",
   "mimetype": "text/x-python",
   "name": "python",
   "nbconvert_exporter": "python",
   "pygments_lexer": "ipython3",
   "version": "3.9.5"
  },
  "vscode": {
   "interpreter": {
    "hash": "95ea645c9616707dab0a4b81ca8f3694bdad973d7a3dde5f6341750ee3e6549e"
   }
  }
 },
 "nbformat": 4,
 "nbformat_minor": 5
}
