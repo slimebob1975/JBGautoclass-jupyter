{
 "cells": [
  {
   "cell_type": "code",
   "execution_count": 1,
   "id": "70e8f5c3-dc5b-4752-9c12-28740a7d443f",
   "metadata": {
    "jupyter": {
     "source_hidden": true
    },
    "tags": []
   },
   "outputs": [
    {
     "data": {
      "application/vnd.jupyter.widget-view+json": {
       "model_id": "028c1f6c0eb7421e880b0638de7ab824",
       "version_major": 2,
       "version_minor": 0
      },
      "text/plain": [
       "HTML(value=\"<style>.result-display {\\n    padding: 5px\\n}\\n.result-display .dataframe tbody td,\\n.result-displ…"
      ]
     },
     "metadata": {},
     "output_type": "display_data"
    },
    {
     "data": {
      "application/vnd.jupyter.widget-view+json": {
       "model_id": "91add93f9d66433b80666e73297957f3",
       "version_major": 2,
       "version_minor": 0
      },
      "text/plain": [
       "Image(value=b'\\x89PNG\\r\\n\\x1a\\n\\x00\\x00\\x00\\rIHDR\\x00\\x00\\x00d\\x00\\x00\\x00I\\x08\\x06\\x00\\x00\\x00\\xcb\\xd0\\x83\\xb…"
      ]
     },
     "metadata": {},
     "output_type": "display_data"
    },
    {
     "data": {
      "application/vnd.jupyter.widget-view+json": {
       "model_id": "4595542a1ed0456ab6e33f3a6cac9934",
       "version_major": 2,
       "version_minor": 0
      },
      "text/plain": [
       "HTML(value='<h1>Welcome to JBG automatic classification!</h1>')"
      ]
     },
     "metadata": {},
     "output_type": "display_data"
    },
    {
     "data": {
      "application/vnd.jupyter.widget-view+json": {
       "model_id": "f6324c3f25a14c0da6869e777228546e",
       "version_major": 2,
       "version_minor": 0
      },
      "text/plain": [
       "Text(value='default', description='Project name:', description_tooltip='Enter a distinct project name for the …"
      ]
     },
     "metadata": {},
     "output_type": "display_data"
    },
    {
     "data": {
      "application/vnd.jupyter.widget-view+json": {
       "model_id": "8e52988a7f114cf18b4e81988a5b1ca3",
       "version_major": 2,
       "version_minor": 0
      },
      "text/plain": [
       "Dropdown(description='Catalogs:', description_tooltip='These are the catalogs of choice', options=('', 'AF', '…"
      ]
     },
     "metadata": {},
     "output_type": "display_data"
    },
    {
     "data": {
      "application/vnd.jupyter.widget-view+json": {
       "model_id": "60c67142e09f4cf5b32fc6e57ef24166",
       "version_major": 2,
       "version_minor": 0
      },
      "text/plain": [
       "Dropdown(description='Tables:', description_tooltip='These are the tables of choice', disabled=True, options=(…"
      ]
     },
     "metadata": {},
     "output_type": "display_data"
    },
    {
     "data": {
      "application/vnd.jupyter.widget-view+json": {
       "model_id": "12c5ca080454401d8cd0737ff9de8f9d",
       "version_major": 2,
       "version_minor": 0
      },
      "text/plain": [
       "HBox(children=(Dropdown(description='Models:', description_tooltip='You can train a new model or use a previou…"
      ]
     },
     "metadata": {},
     "output_type": "display_data"
    },
    {
     "data": {
      "application/vnd.jupyter.widget-view+json": {
       "model_id": "e142ba5e7f1e42c2904859a2740ba21d",
       "version_major": 2,
       "version_minor": 0
      },
      "text/plain": [
       "Box(children=(RadioButtons(description='Class:', description_tooltip='Pick the column to use as class label', …"
      ]
     },
     "metadata": {},
     "output_type": "display_data"
    },
    {
     "data": {
      "application/vnd.jupyter.widget-view+json": {
       "model_id": "6813099f7eb04b439337e048417ec153",
       "version_major": 2,
       "version_minor": 0
      },
      "text/plain": [
       "HTML(value='<em>Class summary</em>: N/A')"
      ]
     },
     "metadata": {},
     "output_type": "display_data"
    },
    {
     "data": {
      "application/vnd.jupyter.widget-view+json": {
       "model_id": "7291f7eda4cc4f219af41c69702d75b4",
       "version_major": 2,
       "version_minor": 0
      },
      "text/plain": [
       "Button(button_style='primary', description='Continue', disabled=True, icon='forward', style=ButtonStyle(), too…"
      ]
     },
     "metadata": {},
     "output_type": "display_data"
    },
    {
     "data": {
      "application/vnd.jupyter.widget-view+json": {
       "model_id": "a5a0941bec434df3a8753f16ddcb77f1",
       "version_major": 2,
       "version_minor": 0
      },
      "text/plain": [
       "HBox(children=(Checkbox(value=False, description='Mode: Train', description_tooltip='A new model will be train…"
      ]
     },
     "metadata": {},
     "output_type": "display_data"
    },
    {
     "data": {
      "application/vnd.jupyter.widget-view+json": {
       "model_id": "444fb0a67e3d42879ef2997dbacf1de9",
       "version_major": 2,
       "version_minor": 0
      },
      "text/plain": [
       "Box(children=(SelectMultiple(description='Preprocess:', description_tooltip='Pick which data preprocessors to …"
      ]
     },
     "metadata": {},
     "output_type": "display_data"
    },
    {
     "data": {
      "application/vnd.jupyter.widget-view+json": {
       "model_id": "9215a2efabfd49ffaefb7b4a5cc1496a",
       "version_major": 2,
       "version_minor": 0
      },
      "text/plain": [
       "HBox(children=(Checkbox(value=False, description='SMOTE', description_tooltip='Use SMOTE (synthetic minority o…"
      ]
     },
     "metadata": {},
     "output_type": "display_data"
    },
    {
     "data": {
      "application/vnd.jupyter.widget-view+json": {
       "model_id": "914083853d4f4ba6a03cca2010859531",
       "version_major": 2,
       "version_minor": 0
      },
      "text/plain": [
       "HBox(children=(Checkbox(value=True, description='Text: Categorize', description_tooltip='Use categorization on…"
      ]
     },
     "metadata": {},
     "output_type": "display_data"
    },
    {
     "data": {
      "application/vnd.jupyter.widget-view+json": {
       "model_id": "e1c6a090fbc7426f9368971270294c1d",
       "version_major": 2,
       "version_minor": 0
      },
      "text/plain": [
       "HBox(children=(IntText(value=0, description='Data limit:', description_tooltip='During debugging or testing, l…"
      ]
     },
     "metadata": {},
     "output_type": "display_data"
    },
    {
     "data": {
      "application/vnd.jupyter.widget-view+json": {
       "model_id": "2b9eeb807db346009d98c526515959ab",
       "version_major": 2,
       "version_minor": 0
      },
      "text/plain": [
       "Button(button_style='primary', description='Start', disabled=True, icon='check', style=ButtonStyle(), tooltip=…"
      ]
     },
     "metadata": {},
     "output_type": "display_data"
    },
    {
     "data": {
      "application/vnd.jupyter.widget-view+json": {
       "model_id": "2f67e395a9a748e1b9d82ec8968f74c8",
       "version_major": 2,
       "version_minor": 0
      },
      "text/plain": [
       "HBox(children=(FloatProgress(value=0.0, bar_style='info', description='Progress:', description_tooltip='The co…"
      ]
     },
     "metadata": {},
     "output_type": "display_data"
    },
    {
     "data": {
      "application/vnd.jupyter.widget-view+json": {
       "model_id": "507699dcfc98444d989ec39c065f1992",
       "version_major": 2,
       "version_minor": 0
      },
      "text/plain": [
       "HTML(value='<h2>Script output</h2>')"
      ]
     },
     "metadata": {},
     "output_type": "display_data"
    },
    {
     "data": {
      "application/vnd.jupyter.widget-view+json": {
       "model_id": "1f30c0aefce843f9a33c25fcd17a88a9",
       "version_major": 2,
       "version_minor": 0
      },
      "text/plain": [
       "Output(layout=Layout(border='2px solid grey', height='500px', max_width='100%', overflow='auto'), _dom_classes…"
      ]
     },
     "metadata": {},
     "output_type": "display_data"
    },
    {
     "data": {
      "application/vnd.jupyter.widget-view+json": {
       "model_id": "9f48a1fae91042b4831a14e995d47431",
       "version_major": 2,
       "version_minor": 0
      },
      "text/plain": [
       "Output()"
      ]
     },
     "metadata": {},
     "output_type": "display_data"
    }
   ],
   "source": [
    "try:\n",
    "    import src.JBGclassification.GUIHandler as GUIHandler\n",
    "\n",
    "    # Create GUI object\n",
    "    gui = GUIHandler.GUIHandler()\n",
    "    gui.display_gui()\n",
    "except FileNotFoundError:\n",
    "    print(\".env file with variables missing.\")\n",
    "except ModuleNotFoundError as ex:\n",
    "    print(\"You need to install some modules: {0}\".format(str(ex)))"
   ]
  },
  {
   "cell_type": "code",
   "execution_count": null,
   "id": "71998a78-ac66-447d-b266-b2ebb7ee6ef7",
   "metadata": {},
   "outputs": [],
   "source": []
  }
 ],
 "metadata": {
  "kernelspec": {
   "display_name": "Python 3 (ipykernel)",
   "language": "python",
   "name": "python3"
  },
  "language_info": {
   "codemirror_mode": {
    "name": "ipython",
    "version": 3
   },
   "file_extension": ".py",
   "mimetype": "text/x-python",
   "name": "python",
   "nbconvert_exporter": "python",
   "pygments_lexer": "ipython3",
   "version": "3.9.13"
  },
  "vscode": {
   "interpreter": {
    "hash": "95ea645c9616707dab0a4b81ca8f3694bdad973d7a3dde5f6341750ee3e6549e"
   }
  }
 },
 "nbformat": 4,
 "nbformat_minor": 5
}
