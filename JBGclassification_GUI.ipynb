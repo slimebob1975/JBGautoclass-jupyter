{
 "cells": [
  {
   "cell_type": "code",
   "execution_count": 1,
   "id": "70e8f5c3-dc5b-4752-9c12-28740a7d443f",
   "metadata": {
    "jupyter": {
     "source_hidden": true
    },
    "tags": []
   },
   "outputs": [
    {
     "data": {
      "text/html": [
       "<p>Connection to server failed: DRIVER=ODBC Driver 18 for SQL Server;SERVER=tcp:sql-stat.iaf.local;DATABASE=Arbetsdatabas;UID=;PWD=;Encrypt=yes;TrustServerCertificate=yes;Connection Timeout=30</p>"
      ],
      "text/plain": [
       "<IPython.core.display.HTML object>"
      ]
     },
     "metadata": {},
     "output_type": "display_data"
    },
    {
     "data": {
      "text/html": [
       "<p>GUI cound not use trusted connection to connect to the database!</p>"
      ],
      "text/plain": [
       "<IPython.core.display.HTML object>"
      ]
     },
     "metadata": {},
     "output_type": "display_data"
    },
    {
     "data": {
      "application/vnd.jupyter.widget-view+json": {
       "model_id": "2fd65ae647b14ef29d703c864b58b094",
       "version_major": 2,
       "version_minor": 0
      },
      "text/plain": [
       "HTML(value=\"<style>.result-display {\\n    padding: 5px\\n}\\n.result-display .dataframe tbody td,\\n.result-displ…"
      ]
     },
     "metadata": {},
     "output_type": "display_data"
    },
    {
     "data": {
      "application/vnd.jupyter.widget-view+json": {
       "model_id": "154a511878a64872a4579504b7c06386",
       "version_major": 2,
       "version_minor": 0
      },
      "text/plain": [
       "Image(value=b'\\x89PNG\\r\\n\\x1a\\n\\x00\\x00\\x00\\rIHDR\\x00\\x00\\x00d\\x00\\x00\\x00I\\x08\\x06\\x00\\x00\\x00\\xcb\\xd0\\x83\\xb…"
      ]
     },
     "metadata": {},
     "output_type": "display_data"
    },
    {
     "data": {
      "application/vnd.jupyter.widget-view+json": {
       "model_id": "9868ab42544047ae9e42c989ab3f10d7",
       "version_major": 2,
       "version_minor": 0
      },
      "text/plain": [
       "HTML(value='<h1>Welcome to JBG automatic classification!</h1>')"
      ]
     },
     "metadata": {},
     "output_type": "display_data"
    },
    {
     "data": {
      "application/vnd.jupyter.widget-view+json": {
       "model_id": "86c3922049e147e99fa9498002cd2456",
       "version_major": 2,
       "version_minor": 0
      },
      "text/plain": [
       "Text(value='default', description='Project name:', placeholder='Project name', tooltip='Enter a distinct proje…"
      ]
     },
     "metadata": {},
     "output_type": "display_data"
    },
    {
     "data": {
      "application/vnd.jupyter.widget-view+json": {
       "model_id": "b7541cf60bb04048ba3007104f3b1b26",
       "version_major": 2,
       "version_minor": 0
      },
      "text/plain": [
       "Text(value='', continuous_update=False, description='Username:', placeholder='Enter username', tooltip='Enter …"
      ]
     },
     "metadata": {},
     "output_type": "display_data"
    },
    {
     "data": {
      "application/vnd.jupyter.widget-view+json": {
       "model_id": "7b27be6f840e436785e0e1f67f4ed131",
       "version_major": 2,
       "version_minor": 0
      },
      "text/plain": [
       "Password(continuous_update=False, description='Password:', placeholder='Enter password', tooltip='Enter your S…"
      ]
     },
     "metadata": {},
     "output_type": "display_data"
    },
    {
     "data": {
      "application/vnd.jupyter.widget-view+json": {
       "model_id": "19e436a88d2b4e069a4755727c642159",
       "version_major": 2,
       "version_minor": 0
      },
      "text/plain": [
       "Checkbox(value=False, description='Trusted connection', tooltip='Use Windows user to log in to the database')"
      ]
     },
     "metadata": {},
     "output_type": "display_data"
    },
    {
     "data": {
      "application/vnd.jupyter.widget-view+json": {
       "model_id": "4528bfd8e5dc4c0996659f1996f6d523",
       "version_major": 2,
       "version_minor": 0
      },
      "text/plain": [
       "Dropdown(description='Catalogs:', disabled=True, options=('N/A',), tooltip='These are the catalogs of choice',…"
      ]
     },
     "metadata": {},
     "output_type": "display_data"
    },
    {
     "data": {
      "application/vnd.jupyter.widget-view+json": {
       "model_id": "9a8b3db272aa43d1ac24f6f77898eea0",
       "version_major": 2,
       "version_minor": 0
      },
      "text/plain": [
       "Dropdown(description='Tables:', disabled=True, options=('N/A',), tooltip='These are the tables of choice', val…"
      ]
     },
     "metadata": {},
     "output_type": "display_data"
    },
    {
     "data": {
      "application/vnd.jupyter.widget-view+json": {
       "model_id": "0a0712f2a3be4bd983c87806b1457b4c",
       "version_major": 2,
       "version_minor": 0
      },
      "text/plain": [
       "HBox(children=(Dropdown(description='Models:', disabled=True, options=('', 'Train a new model', 'breast.sav', …"
      ]
     },
     "metadata": {},
     "output_type": "display_data"
    },
    {
     "data": {
      "application/vnd.jupyter.widget-view+json": {
       "model_id": "b3c63abea0f74d34bae73e8d76850584",
       "version_major": 2,
       "version_minor": 0
      },
      "text/plain": [
       "Box(children=(RadioButtons(description='Class:', disabled=True, options=('N/A',), tooltip='Pick the column to …"
      ]
     },
     "metadata": {},
     "output_type": "display_data"
    },
    {
     "data": {
      "application/vnd.jupyter.widget-view+json": {
       "model_id": "41e68e676dc342b79f0c2a0625a75a1b",
       "version_major": 2,
       "version_minor": 0
      },
      "text/plain": [
       "HTML(value='<em>Class summary</em>: N/A')"
      ]
     },
     "metadata": {},
     "output_type": "display_data"
    },
    {
     "data": {
      "application/vnd.jupyter.widget-view+json": {
       "model_id": "4dc903ac2ff0401c8cbb516182a69219",
       "version_major": 2,
       "version_minor": 0
      },
      "text/plain": [
       "Button(button_style='primary', description='Continue', disabled=True, icon='forward', style=ButtonStyle(), too…"
      ]
     },
     "metadata": {},
     "output_type": "display_data"
    },
    {
     "data": {
      "application/vnd.jupyter.widget-view+json": {
       "model_id": "03c2e1835d8f4be882de716d5151de51",
       "version_major": 2,
       "version_minor": 0
      },
      "text/plain": [
       "HBox(children=(Checkbox(value=False, description='Mode: Train', disabled=True, tooltip='A new model will be tr…"
      ]
     },
     "metadata": {},
     "output_type": "display_data"
    },
    {
     "data": {
      "application/vnd.jupyter.widget-view+json": {
       "model_id": "37ff2efb87d74e58a9c6c2342331ac33",
       "version_major": 2,
       "version_minor": 0
      },
      "text/plain": [
       "Box(children=(SelectMultiple(description='Preprocess:', disabled=True, index=(0,), options=(('No Scaling', 'NO…"
      ]
     },
     "metadata": {},
     "output_type": "display_data"
    },
    {
     "data": {
      "application/vnd.jupyter.widget-view+json": {
       "model_id": "bdc1855f0fe048be83d2ae4bf466d644",
       "version_major": 2,
       "version_minor": 0
      },
      "text/plain": [
       "HBox(children=(Dropdown(description='Oversampler:', disabled=True, options=(('No Oversampling', 'NOG'), ('ADAS…"
      ]
     },
     "metadata": {},
     "output_type": "display_data"
    },
    {
     "data": {
      "application/vnd.jupyter.widget-view+json": {
       "model_id": "e3904f5ba0c945e88c14c77f537adefe",
       "version_major": 2,
       "version_minor": 0
      },
      "text/plain": [
       "HBox(children=(Checkbox(value=True, description='Text: Categorize', disabled=True, tooltip='Use categorization…"
      ]
     },
     "metadata": {},
     "output_type": "display_data"
    },
    {
     "data": {
      "application/vnd.jupyter.widget-view+json": {
       "model_id": "53196a3fc9c7407187c6482eed2771ac",
       "version_major": 2,
       "version_minor": 0
      },
      "text/plain": [
       "HBox(children=(IntText(value=0, description='Data limit:', disabled=True, tooltip='During debugging or testing…"
      ]
     },
     "metadata": {},
     "output_type": "display_data"
    },
    {
     "data": {
      "application/vnd.jupyter.widget-view+json": {
       "model_id": "f9361ef5bcef4deb8eba2fc96a12959b",
       "version_major": 2,
       "version_minor": 0
      },
      "text/plain": [
       "Button(button_style='primary', description='Start', disabled=True, icon='check', style=ButtonStyle(), tooltip=…"
      ]
     },
     "metadata": {},
     "output_type": "display_data"
    },
    {
     "data": {
      "application/vnd.jupyter.widget-view+json": {
       "model_id": "f73a7fbfa3484e16a869ab8cdec9039c",
       "version_major": 2,
       "version_minor": 0
      },
      "text/plain": [
       "HBox(children=(FloatProgress(value=0.0, bar_style='info', description='Progress:', max=1.0, tooltip='The compu…"
      ]
     },
     "metadata": {},
     "output_type": "display_data"
    },
    {
     "data": {
      "application/vnd.jupyter.widget-view+json": {
       "model_id": "172d3a3c47644ace9617d06c1ef29e88",
       "version_major": 2,
       "version_minor": 0
      },
      "text/plain": [
       "HTML(value='<h2>Script output</h2>')"
      ]
     },
     "metadata": {},
     "output_type": "display_data"
    },
    {
     "data": {
      "application/vnd.jupyter.widget-view+json": {
       "model_id": "b853ec5b9a0b45f084b086ea8e268637",
       "version_major": 2,
       "version_minor": 0
      },
      "text/plain": [
       "Output(layout=Layout(border_bottom='2px solid grey', border_left='2px solid grey', border_right='2px solid gre…"
      ]
     },
     "metadata": {},
     "output_type": "display_data"
    },
    {
     "data": {
      "application/vnd.jupyter.widget-view+json": {
       "model_id": "f0388dc360534671b65d22c480da2c85",
       "version_major": 2,
       "version_minor": 0
      },
      "text/plain": [
       "Output()"
      ]
     },
     "metadata": {},
     "output_type": "display_data"
    }
   ],
   "source": [
    "try:\n",
    "    import src.JBGclassification.GUIHandler as GUIHandler\n",
    "\n",
    "    # Create GUI object\n",
    "    gui = GUIHandler.GUIHandler()\n",
    "    gui.display_gui()\n",
    "except FileNotFoundError:\n",
    "    print(\".env file with variables missing.\")\n",
    "except ModuleNotFoundError as ex:\n",
    "    print(\"You need to install some modules: {0}\".format(str(ex)))"
   ]
  },
  {
   "cell_type": "code",
   "execution_count": null,
   "id": "64d58d20-a1e4-4fcf-b3b0-be5d02716154",
   "metadata": {},
   "outputs": [],
   "source": []
  }
 ],
 "metadata": {
  "kernelspec": {
   "display_name": "Python 3 (ipykernel)",
   "language": "python",
   "name": "python3"
  },
  "language_info": {
   "codemirror_mode": {
    "name": "ipython",
    "version": 3
   },
   "file_extension": ".py",
   "mimetype": "text/x-python",
   "name": "python",
   "nbconvert_exporter": "python",
   "pygments_lexer": "ipython3",
   "version": "3.11.5"
  },
  "vscode": {
   "interpreter": {
    "hash": "95ea645c9616707dab0a4b81ca8f3694bdad973d7a3dde5f6341750ee3e6549e"
   }
  }
 },
 "nbformat": 4,
 "nbformat_minor": 5
}
