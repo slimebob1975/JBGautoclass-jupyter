{
 "cells": [
  {
   "cell_type": "code",
   "execution_count": 1,
   "id": "39b2fb5b-0755-4e75-a18b-14c9f2bbb678",
   "metadata": {
    "jupyter": {
     "source_hidden": true
    }
   },
   "outputs": [
    {
     "data": {
      "application/vnd.jupyter.widget-view+json": {
       "model_id": "62bc837e9d5040a197a509e62a1b0909",
       "version_major": 2,
       "version_minor": 0
      },
      "text/plain": [
       "HTML(value=\"<style>.result-display {\\n    padding: 5px\\n}\\n.result-display .dataframe tbody td,\\n.result-displ…"
      ]
     },
     "metadata": {},
     "output_type": "display_data"
    },
    {
     "data": {
      "application/vnd.jupyter.widget-view+json": {
       "model_id": "4e1bb799c7d34c5b858032154f18555b",
       "version_major": 2,
       "version_minor": 0
      },
      "text/plain": [
       "Image(value=b'\\x89PNG\\r\\n\\x1a\\n\\x00\\x00\\x00\\rIHDR\\x00\\x00\\x00d\\x00\\x00\\x00I\\x08\\x06\\x00\\x00\\x00\\xcb\\xd0\\x83\\xb…"
      ]
     },
     "metadata": {},
     "output_type": "display_data"
    },
    {
     "data": {
      "application/vnd.jupyter.widget-view+json": {
       "model_id": "2a8caecfb9dc4cac98e886f3a773e05d",
       "version_major": 2,
       "version_minor": 0
      },
      "text/plain": [
       "HTML(value='<h1>Supervised Machine Learning</h1>')"
      ]
     },
     "metadata": {},
     "output_type": "display_data"
    },
    {
     "data": {
      "application/vnd.jupyter.widget-view+json": {
       "model_id": "e24b50edf94e49c5a10dc8b0513aa2e7",
       "version_major": 2,
       "version_minor": 0
      },
      "text/plain": [
       "Text(value='default', description='Project:', placeholder='Project name', tooltip='Enter a distinct project na…"
      ]
     },
     "metadata": {},
     "output_type": "display_data"
    },
    {
     "data": {
      "application/vnd.jupyter.widget-view+json": {
       "model_id": "8af86eae178c4de5b51615a80bff012f",
       "version_major": 2,
       "version_minor": 0
      },
      "text/plain": [
       "Box(children=(Text(value='', continuous_update=False, description='SQL user:', placeholder='Enter username', t…"
      ]
     },
     "metadata": {},
     "output_type": "display_data"
    },
    {
     "data": {
      "application/vnd.jupyter.widget-view+json": {
       "model_id": "ef4cfa1475fe471cadf95bf61c773c17",
       "version_major": 2,
       "version_minor": 0
      },
      "text/plain": [
       "HBox(children=(Dropdown(description='Models:', disabled=True, options=('', 'Train a new model', 'grej.sav', 'i…"
      ]
     },
     "metadata": {},
     "output_type": "display_data"
    },
    {
     "data": {
      "application/vnd.jupyter.widget-view+json": {
       "model_id": "da7c1a9afa174e3b8aeac1dcbd60227e",
       "version_major": 2,
       "version_minor": 0
      },
      "text/plain": [
       "Box(children=(RadioButtons(description='Class:', disabled=True, options=('N/A',), tooltip='Pick the column to …"
      ]
     },
     "metadata": {},
     "output_type": "display_data"
    },
    {
     "data": {
      "application/vnd.jupyter.widget-view+json": {
       "model_id": "69adac34e7f34dc09ac856b9926c8a75",
       "version_major": 2,
       "version_minor": 0
      },
      "text/plain": [
       "HTML(value='<em>Class summary</em>: N/A')"
      ]
     },
     "metadata": {},
     "output_type": "display_data"
    },
    {
     "data": {
      "application/vnd.jupyter.widget-view+json": {
       "model_id": "80a43b6cb3be4b05b018f943eb9e23f0",
       "version_major": 2,
       "version_minor": 0
      },
      "text/plain": [
       "Button(button_style='primary', description='Continue', disabled=True, icon='forward', style=ButtonStyle(), too…"
      ]
     },
     "metadata": {},
     "output_type": "display_data"
    },
    {
     "data": {
      "application/vnd.jupyter.widget-view+json": {
       "model_id": "2c016df24be941babbb21955c0489423",
       "version_major": 2,
       "version_minor": 0
      },
      "text/plain": [
       "HBox(children=(Checkbox(value=False, description='Mode: Train', disabled=True, tooltip='A new model will be tr…"
      ]
     },
     "metadata": {},
     "output_type": "display_data"
    },
    {
     "data": {
      "application/vnd.jupyter.widget-view+json": {
       "model_id": "48c0370f884548c48db63144b1cfa285",
       "version_major": 2,
       "version_minor": 0
      },
      "text/plain": [
       "Box(children=(SelectMultiple(description='Preprocess:', disabled=True, index=(0,), options=(('No Scaling', 'NO…"
      ]
     },
     "metadata": {},
     "output_type": "display_data"
    },
    {
     "data": {
      "application/vnd.jupyter.widget-view+json": {
       "model_id": "bc1a91626ecd4870b59e9d7ff254a694",
       "version_major": 2,
       "version_minor": 0
      },
      "text/plain": [
       "HBox(children=(Dropdown(description='Oversampler:', disabled=True, options=(('No Oversampling', 'NOG'), ('ADAS…"
      ]
     },
     "metadata": {},
     "output_type": "display_data"
    },
    {
     "data": {
      "application/vnd.jupyter.widget-view+json": {
       "model_id": "24bc279bf40e4dc7bd86a1029c72b608",
       "version_major": 2,
       "version_minor": 0
      },
      "text/plain": [
       "HBox(children=(Checkbox(value=True, description='Text: Categorize', disabled=True, tooltip='Use categorization…"
      ]
     },
     "metadata": {},
     "output_type": "display_data"
    },
    {
     "data": {
      "application/vnd.jupyter.widget-view+json": {
       "model_id": "8132b3ab22a748f4a54d716ba928aeb5",
       "version_major": 2,
       "version_minor": 0
      },
      "text/plain": [
       "HBox(children=(IntText(value=0, description='Data limit:', disabled=True, tooltip='During debugging or testing…"
      ]
     },
     "metadata": {},
     "output_type": "display_data"
    },
    {
     "data": {
      "application/vnd.jupyter.widget-view+json": {
       "model_id": "94d2c92ac6ba405198416dde9574d18f",
       "version_major": 2,
       "version_minor": 0
      },
      "text/plain": [
       "Button(button_style='primary', description='Start', disabled=True, icon='check', style=ButtonStyle(), tooltip=…"
      ]
     },
     "metadata": {},
     "output_type": "display_data"
    },
    {
     "data": {
      "application/vnd.jupyter.widget-view+json": {
       "model_id": "d0fab20a5a714374bc339ba494f73674",
       "version_major": 2,
       "version_minor": 0
      },
      "text/plain": [
       "HBox(children=(FloatProgress(value=0.0, bar_style='info', description='Progress:', max=1.0, tooltip='The compu…"
      ]
     },
     "metadata": {},
     "output_type": "display_data"
    },
    {
     "data": {
      "application/vnd.jupyter.widget-view+json": {
       "model_id": "f7180cb8b1364836bb1547fc661e9948",
       "version_major": 2,
       "version_minor": 0
      },
      "text/plain": [
       "HTML(value='<h2>Script output</h2>')"
      ]
     },
     "metadata": {},
     "output_type": "display_data"
    },
    {
     "data": {
      "application/vnd.jupyter.widget-view+json": {
       "model_id": "20b584b4352a42f4bf45e909ae5b07f4",
       "version_major": 2,
       "version_minor": 0
      },
      "text/plain": [
       "Output(layout=Layout(border_bottom='2px solid grey', border_left='2px solid grey', border_right='2px solid gre…"
      ]
     },
     "metadata": {},
     "output_type": "display_data"
    },
    {
     "data": {
      "application/vnd.jupyter.widget-view+json": {
       "model_id": "8477f073bb6440c1bc22b17eae8adbb8",
       "version_major": 2,
       "version_minor": 0
      },
      "text/plain": [
       "Output()"
      ]
     },
     "metadata": {},
     "output_type": "display_data"
    }
   ],
   "source": [
    "# This is the Python Notebook for JBG Supervised Machine Learning\n",
    "try:\n",
    "    import src.JBGclassification.GUIHandler as GUIHandler\n",
    "\n",
    "    # Create GUI object\n",
    "    gui = GUIHandler.GUIHandler()\n",
    "    gui.display_gui()\n",
    "except FileNotFoundError:\n",
    "    print(\".env file with variables missing.\")\n",
    "except ModuleNotFoundError as ex:\n",
    "    print(\"You need to install some modules: {0}\".format(str(ex)))"
   ]
  }
 ],
 "metadata": {
  "kernelspec": {
   "display_name": "Python 3 (ipykernel)",
   "language": "python",
   "name": "python3"
  },
  "language_info": {
   "codemirror_mode": {
    "name": "ipython",
    "version": 3
   },
   "file_extension": ".py",
   "mimetype": "text/x-python",
   "name": "python",
   "nbconvert_exporter": "python",
   "pygments_lexer": "ipython3",
   "version": "3.11.5"
  }
 },
 "nbformat": 4,
 "nbformat_minor": 5
}
