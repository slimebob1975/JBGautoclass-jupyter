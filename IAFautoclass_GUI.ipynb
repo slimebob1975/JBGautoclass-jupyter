{
 "cells": [
  {
   "cell_type": "code",
   "execution_count": 1,
   "id": "70e8f5c3-dc5b-4752-9c12-28740a7d443f",
   "metadata": {
    "tags": []
   },
   "outputs": [],
   "source": [
    "# Alternate GUI for IAFautoclassification script using widgets from Jupyter\n",
    "# Written by: Robert Granat, Jan-Feb 2022.\n",
    "\n",
    "# Imports\n",
    "import ipywidgets as widgets\n",
    "import os\n",
    "import src.IAFautoclass.SqlHelper.IAFSqlHelper as sql\n",
    "import src.IAFautoclass.IAFautomaticClassiphyer\n",
    "\n",
    "# Constants\n",
    "DEFAULT_HOST = \"tcp:sql-stat.iaf.local\"\n",
    "DEFAULT_ODBC_DRIVER = \"SQL Server\"\n",
    "DEFAULT_CATALOG = \"Arbetsdatabas\""
   ]
  },
  {
   "cell_type": "code",
   "execution_count": 2,
   "id": "e2e34f58-805d-478d-b862-b11c36296b34",
   "metadata": {
    "tags": []
   },
   "outputs": [
    {
     "data": {
      "application/vnd.jupyter.widget-view+json": {
       "model_id": "9b01ad538b274e8582021969df41325a",
       "version_major": 2,
       "version_minor": 0
      },
      "text/plain": [
       "Label(value='*** Welcome to IAF automatic classification! ***')"
      ]
     },
     "metadata": {},
     "output_type": "display_data"
    }
   ],
   "source": [
    "# Welcome message\n",
    "widgets.Label(\n",
    "    value = \"*** Welcome to IAF automatic classification! ***\"\n",
    ")"
   ]
  },
  {
   "cell_type": "code",
   "execution_count": 3,
   "id": "68e6bbdf-7fb6-4b9c-ab5f-e6907db4e182",
   "metadata": {
    "tags": []
   },
   "outputs": [
    {
     "data": {
      "application/vnd.jupyter.widget-view+json": {
       "model_id": "20b08a7ca80b41ba8517d99ff129a6c4",
       "version_major": 2,
       "version_minor": 0
      },
      "text/plain": [
       "Text(value='', description='Project name:', placeholder='Project name')"
      ]
     },
     "metadata": {},
     "output_type": "display_data"
    }
   ],
   "source": [
    "# Project name\n",
    "project = widgets.Text(\n",
    "    value='',\n",
    "    placeholder='Project name',\n",
    "    description='Project name:',\n",
    "    disabled=False\n",
    ")\n",
    "display(project)"
   ]
  },
  {
   "cell_type": "code",
   "execution_count": 9,
   "id": "8ec0e933-472b-40d8-ac7c-e26f6f823b62",
   "metadata": {
    "tags": []
   },
   "outputs": [
    {
     "name": "stdout",
     "output_type": "stream",
     "text": [
      "Project name: iris\n",
      "Successfully connected to SQL Server!\n"
     ]
    }
   ],
   "source": [
    "conn = None\n",
    "if project.value != '':\n",
    "    sqlHelper = sql.IAFSqlHelper(driver = DEFAULT_ODBC_DRIVER, host = DEFAULT_HOST, catalog = DEFAULT_CATALOG, \\\n",
    "                                 trusted_connection = True )\n",
    "    try:\n",
    "        conn = sqlHelper.connect()\n",
    "    except Exception as ex:\n",
    "        print(\"Could not connect to SQL Server: {str(ex)}\")\n",
    "    print(\"Project name: {}\".format(project.value))\n",
    "    print(\"Successfully connected to SQL Server!\")\n",
    "else:\n",
    "    print(\"Pick a project name to move on!\")"
   ]
  },
  {
   "cell_type": "code",
   "execution_count": 10,
   "id": "0ccb1035-642d-42df-bbdb-9c993f802133",
   "metadata": {
    "tags": []
   },
   "outputs": [
    {
     "data": {
      "application/vnd.jupyter.widget-view+json": {
       "model_id": "fdab38b033764a089289863903fdbb99",
       "version_major": 2,
       "version_minor": 0
      },
      "text/plain": [
       "Dropdown(description='Databases:', options=('', 'master', 'tempdb', 'model', 'msdb', 'AF', 'astat3_gallring', …"
      ]
     },
     "metadata": {},
     "output_type": "display_data"
    }
   ],
   "source": [
    "# Ask for databases to build database dropdown list\n",
    "if conn:\n",
    "    query = \"SELECT name FROM sys.databases\"\n",
    "    sqlHelper.execute_query(query, get_data = True)\n",
    "    data = sqlHelper.read_all_data()\n",
    "    \n",
    "    database_list = [''] + [database[0] for database in data]\n",
    "    database_dropdown = widgets.Dropdown(\n",
    "        options=database_list,\n",
    "        value=database_list[0],\n",
    "        description='Databases:',\n",
    "    )\n",
    "    display(database_dropdown)"
   ]
  },
  {
   "cell_type": "code",
   "execution_count": 11,
   "id": "fa602764-4a91-4e03-91ca-31da1aa81516",
   "metadata": {
    "tags": []
   },
   "outputs": [
    {
     "data": {
      "application/vnd.jupyter.widget-view+json": {
       "model_id": "5222929217364f42a6c3cecfab2b4d9b",
       "version_major": 2,
       "version_minor": 0
      },
      "text/plain": [
       "Dropdown(description='Tables:', options=('', 'ar_hpl.ArendegranskningSvar', 'ar_hpl.EstimeringSvar', 'ar_hpl.I…"
      ]
     },
     "metadata": {},
     "output_type": "display_data"
    }
   ],
   "source": [
    "if conn and database_dropdown.value != '':\n",
    "    query = \"SELECT TABLE_SCHEMA,TABLE_NAME FROM INFORMATION_SCHEMA.TABLES ORDER BY TABLE_SCHEMA,TABLE_NAME\"\n",
    "    sqlHelper.execute_query(query, get_data = True)\n",
    "    tables = sqlHelper.read_all_data()\n",
    "    \n",
    "    tables_list = [''] + [table[0]+'.'+table[1] for table in tables]\n",
    "    tables_dropdown = widgets.Dropdown(\n",
    "        options=tables_list,\n",
    "        value=tables_list[0],\n",
    "        description='Tables:',\n",
    "    )\n",
    "    display(tables_dropdown)"
   ]
  },
  {
   "cell_type": "code",
   "execution_count": 16,
   "id": "16cdb060-4237-492d-80fd-e0c3de145f09",
   "metadata": {
    "tags": []
   },
   "outputs": [
    {
     "data": {
      "application/vnd.jupyter.widget-view+json": {
       "model_id": "e1f6152eea0044cc964a2eeb943fef26",
       "version_major": 2,
       "version_minor": 0
      },
      "text/plain": [
       "Dropdown(description='Models:', options=('', 'Train new model', 'iris.sav'), value='')"
      ]
     },
     "metadata": {},
     "output_type": "display_data"
    }
   ],
   "source": [
    "# Give directions \n",
    "if conn and tables_dropdown.value != '':\n",
    "    widgets.Label(\n",
    "        value = \"*** Pick pretrained model or train a new one ***\"\n",
    "    )\n",
    "    path = \".\\\\src\\\\IAFautoclass\\\\model\\\\\"\n",
    "    models_list = [''] + ['Train new model'] + [file for file in os.listdir(path)]\n",
    "    models_dropdown = widgets.Dropdown(\n",
    "        options=models_list,\n",
    "        value=models_list[0],\n",
    "        description='Models:',\n",
    "    )\n",
    "    display(models_dropdown)"
   ]
  },
  {
   "cell_type": "code",
   "execution_count": 20,
   "id": "81d9a24b-fba3-4536-8fd7-02303f64e7e2",
   "metadata": {
    "tags": []
   },
   "outputs": [
    {
     "data": {
      "application/vnd.jupyter.widget-view+json": {
       "model_id": "eb688e383f004f8f81575f5fed6782da",
       "version_major": 2,
       "version_minor": 0
      },
      "text/plain": [
       "RadioButtons(description='Class:', options=('class', 'id', 'petal-length', 'petal-width', 'sepal-length', 'sep…"
      ]
     },
     "metadata": {},
     "output_type": "display_data"
    },
    {
     "data": {
      "application/vnd.jupyter.widget-view+json": {
       "model_id": "e9e3f112ddcd461a8e947cab8fe95f8a",
       "version_major": 2,
       "version_minor": 0
      },
      "text/plain": [
       "RadioButtons(description='Id:', index=1, options=('class', 'id', 'petal-length', 'petal-width', 'sepal-length'…"
      ]
     },
     "metadata": {},
     "output_type": "display_data"
    },
    {
     "data": {
      "application/vnd.jupyter.widget-view+json": {
       "model_id": "02dfbfd562d2444d99e38cac41ac466d",
       "version_major": 2,
       "version_minor": 0
      },
      "text/plain": [
       "SelectMultiple(description='Data:', index=(2, 3, 4, 5), options=('class', 'id', 'petal-length', 'petal-width',…"
      ]
     },
     "metadata": {},
     "output_type": "display_data"
    }
   ],
   "source": [
    "if conn and models_dropdown.value == 'Train new model':\n",
    "    query = \"SELECT COLUMN_NAME FROM INFORMATION_SCHEMA.COLUMNS WHERE TABLE_CATALOG = \" \\\n",
    "        + \"\\'\" + database_dropdown.value + \"\\' AND CONCAT(CONCAT(TABLE_SCHEMA,'.'),TABLE_NAME) = \" \\\n",
    "        + \"\\'\" + tables_dropdown.value + \"\\'\"\n",
    "    sqlHelper.execute_query(query, get_data = True)\n",
    "    columns = sqlHelper.read_all_data()\n",
    "\n",
    "    columns_list = [column[0] for column in columns]\n",
    "    \n",
    "    class_column = widgets.RadioButtons(\n",
    "        options=columns_list,\n",
    "        value=columns_list[0],\n",
    "        description='Class:',\n",
    "        disabled=False\n",
    "    )\n",
    "    display(class_column)\n",
    "    \n",
    "    id_column = widgets.RadioButtons(\n",
    "        options=columns_list,\n",
    "        value=columns_list[1],\n",
    "        description='Id:',\n",
    "        disabled=False\n",
    "    )\n",
    "    display(id_column)\n",
    "    \n",
    "    data_columns = widgets.SelectMultiple(\n",
    "        options=columns_list,\n",
    "        value=columns_list[2:],\n",
    "        description='Data:',\n",
    "        disabled=False\n",
    "    )\n",
    "    display(data_columns)\n",
    "elif conn and models_dropdown.value != '':\n",
    "    print(\"Using model {0} on SQL table: {1}.{2}!\".\n",
    "         format(models_dropdown.value, database_dropdown.value, \n",
    "               tables_dropdown.value))\n",
    "elif conn:\n",
    "    print(\"Pick a model to move on!\")"
   ]
  },
  {
   "cell_type": "code",
   "execution_count": null,
   "id": "c672582b-a1c4-4f4a-b465-e9fb4e35ab8b",
   "metadata": {
    "tags": []
   },
   "outputs": [],
   "source": []
  },
  {
   "cell_type": "code",
   "execution_count": null,
   "id": "0e014f85-5092-4f8d-b66c-019942ef212b",
   "metadata": {
    "tags": []
   },
   "outputs": [],
   "source": []
  }
 ],
 "metadata": {
  "kernelspec": {
   "display_name": "Python 3 (ipykernel)",
   "language": "python",
   "name": "python3"
  },
  "language_info": {
   "codemirror_mode": {
    "name": "ipython",
    "version": 3
   },
   "file_extension": ".py",
   "mimetype": "text/x-python",
   "name": "python",
   "nbconvert_exporter": "python",
   "pygments_lexer": "ipython3",
   "version": "3.9.5"
  }
 },
 "nbformat": 4,
 "nbformat_minor": 5
}
