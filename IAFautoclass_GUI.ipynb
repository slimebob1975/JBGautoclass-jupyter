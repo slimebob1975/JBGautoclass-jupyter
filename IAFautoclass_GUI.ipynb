{
 "cells": [
  {
   "cell_type": "code",
   "execution_count": 3,
   "id": "70e8f5c3-dc5b-4752-9c12-28740a7d443f",
   "metadata": {
    "tags": []
   },
   "outputs": [
    {
     "name": "stdout",
     "output_type": "stream",
     "text": [
      "GUI class successfully connected to SQL Server!\n"
     ]
    }
   ],
   "source": [
    "# Alternate GUI for IAFautoclassification script using widgets from Jupyter\n",
    "# Written by: Robert Granat, Jan-Feb 2022.\n",
    "\n",
    "# Imports\n",
    "import ipywidgets as widgets\n",
    "import os\n",
    "import sys\n",
    "import src.IAFautoclass.SqlHelper.IAFSqlHelper as sql\n",
    "import src.IAFautoclass.IAFautomaticClassiphyer\n",
    "\n",
    "# Class definition for the GUI\n",
    "class IAFautoclass_GUI:\n",
    "    \n",
    "    # Constants\n",
    "    DEFAULT_HOST = \"tcp:sql-stat.iaf.local\"\n",
    "    DEFAULT_ODBC_DRIVER = \"SQL Server\"\n",
    "    DEFAULT_CATALOG = \"Arbetsdatabas\"\n",
    "    DEFAULT_MODELS_PATH =  \".\\\\src\\\\IAFautoclass\\\\model\\\\\"\n",
    "    DEFAULT_TRAIN_OPTION = \"Train a new model!\"\n",
    "    \n",
    "    # Constructor\n",
    "    def __init__(self):\n",
    "        \n",
    "        # Some data elements might get lost unless we lock a few callback functions\n",
    "        self.lock_observe_1 = False\n",
    "        \n",
    "        # Welcoming message label\n",
    "        self.welcome = widgets.Label(\n",
    "            value = \"*** Welcome to IAF automatic classification! ***\"\n",
    "        )\n",
    "        \n",
    "        # Project element data element\n",
    "        self.project = widgets.Text(\n",
    "            value = 'default',\n",
    "            placeholder = 'Project name',\n",
    "            description = 'Project name:',\n",
    "            disabled = False\n",
    "        )\n",
    "        \n",
    "        # A helper for SQL Server communications\n",
    "        self.sqlHelper = \\\n",
    "            sql.IAFSqlHelper( driver = self.DEFAULT_ODBC_DRIVER, host = self.DEFAULT_HOST, \\\n",
    "                              catalog = self.DEFAULT_CATALOG, trusted_connection = True )\n",
    "        try:\n",
    "            self.conn = self.sqlHelper.connect()\n",
    "            print(\"GUI class successfully connected to SQL Server!\")\n",
    "        except Exception as ex:\n",
    "            sys.exit(\"GUI class could not connect to SQL Server: {0}\".format(str(ex)))\n",
    "        \n",
    "        # Database dropdown list\n",
    "        self.database_dropdown = widgets.Dropdown(\n",
    "            options = ['N/A'],\n",
    "            value = 'N/A',\n",
    "            description = 'Databases:',\n",
    "        )\n",
    "        \n",
    "        # Update databases list\n",
    "        self.update_databases()\n",
    "        \n",
    "        # Tables dropdown list\n",
    "        self.tables_dropdown = widgets.Dropdown(\n",
    "            options = ['N/A'],\n",
    "            value = 'N/A',\n",
    "            description = 'Tables:',\n",
    "            disabled = True,\n",
    "        )\n",
    "        \n",
    "        # Models dropdown list\n",
    "        self.models_dropdown = widgets.Dropdown(\n",
    "            options = ['N/A'],\n",
    "            value = 'N/A',\n",
    "            description = 'Models:',\n",
    "            disabled = True,\n",
    "        )\n",
    "        \n",
    "        # Radiobuttons for choosing the class column\n",
    "        self.class_column = widgets.RadioButtons(\n",
    "            options = ['N/A'],\n",
    "            value = 'N/A',\n",
    "            description = 'Class:',\n",
    "            disabled = True,\n",
    "        )\n",
    "    \n",
    "        # Radiobuttons for choosing the unique id column\n",
    "        self.id_column = widgets.RadioButtons(\n",
    "            options = ['N/A'],\n",
    "            value = 'N/A',\n",
    "            description = 'Unique id:',\n",
    "            disabled = True,\n",
    "        )\n",
    "\n",
    "        # Multiple select for choosing the data columns\n",
    "        self.data_columns = widgets.SelectMultiple(\n",
    "            options = ['N/A'],\n",
    "            value = [],\n",
    "            description = 'Data:',\n",
    "            disabled = True,\n",
    "        )\n",
    "        \n",
    "        # Multiple select for picking text columns of the available data columns\n",
    "        self.text_columns = widgets.SelectMultiple(\n",
    "            options = ['N/A'],\n",
    "            value = [],\n",
    "            description='Text data:',\n",
    "            disabled = True,\n",
    "        )\n",
    "        \n",
    "         # Continuation message label\n",
    "        self.continuation = widgets.Label(\n",
    "            value = \"\",\n",
    "        )\n",
    "        \n",
    "        # Button to continue after the basic settings was set\n",
    "        self.continuation_button = widgets.Button(\n",
    "            description='Continue',\n",
    "            disabled=True,\n",
    "            button_style='success', \n",
    "            tooltip='Continue with the process using these settings',\n",
    "            icon='check' \n",
    "        )\n",
    "        \n",
    "        self.train_checkbox = widgets.Checkbox(\n",
    "            value = False,\n",
    "            description = 'Train',\n",
    "            disabled = True,\n",
    "            indent = True\n",
    "        )\n",
    "        \n",
    "        self.predict_checkbox = widgets.Checkbox(\n",
    "            value = False,\n",
    "            description = 'Predict',\n",
    "            disabled = True,\n",
    "            indent = True\n",
    "        )\n",
    "        \n",
    "        self.mispredicted_checkbox = widgets.Checkbox(\n",
    "            value = False,\n",
    "            description = 'Display mispredicted',\n",
    "            disabled = True,\n",
    "            indent = True\n",
    "        )\n",
    "                \n",
    "        self.checkboxes_form = widgets.Box( \n",
    "            [widgets.Label(value='Mode:'), self.train_checkbox, self.predict_checkbox, self.mispredicted_checkbox ], \n",
    "            layout = widgets.Layout(\n",
    "                display='flex',\n",
    "                flex_flow='row',\n",
    "                border='solid 0px',\n",
    "                align_items='stretch',\n",
    "                width='auto',\n",
    "            ),\n",
    "        )\n",
    "        \n",
    "    # Destructor\n",
    "    def __del__(self):\n",
    "        pass\n",
    "    \n",
    "    # Print the class \n",
    "    def __str__(self):\n",
    "        return str(type(self))\n",
    "    \n",
    "    # Internal methods used to populate or update widget settings\n",
    "    def update_databases(self, *args):\n",
    "        query = \"SELECT name FROM sys.databases\"\n",
    "        try:\n",
    "            self.sqlHelper.execute_query(query, get_data = True)\n",
    "        except Exception as ex:\n",
    "            sys.exit(\"Query \\\"{0}\\\" failed: {1}\".format(query,str(ex)))\n",
    "        data = self.sqlHelper.read_all_data()\n",
    "        database_list = [''] + [database[0] for database in data]\n",
    "        self.database_dropdown.options = database_list\n",
    "        self.database_dropdown.value = database_list[0]\n",
    "        \n",
    "        self.database_dropdown.observe(self.update_tables)\n",
    "    \n",
    "    def update_tables(self, *args):\n",
    "        if not self.lock_observe_1:\n",
    "            if self.database_dropdown.value != self.DEFAULT_CATALOG:\n",
    "                self.sqlHelper.disconnect()\n",
    "                self.sqlHelper = sql.IAFSqlHelper( driver = self.DEFAULT_ODBC_DRIVER, \\\n",
    "                                                   host = self.DEFAULT_HOST, \\\n",
    "                                                   catalog = self.database_dropdown.value, \\\n",
    "                                                   trusted_connection = True )\n",
    "            try:\n",
    "                self.conn = self.sqlHelper.connect()\n",
    "            except Exception as ex:\n",
    "                sys.exit(\"GUI class could not connect to SQL Server: {0}\".format(str(ex)))\n",
    "            query = \"SELECT TABLE_SCHEMA,TABLE_NAME FROM INFORMATION_SCHEMA.TABLES ORDER BY TABLE_SCHEMA,TABLE_NAME\"\n",
    "            self.sqlHelper.execute_query(query, get_data = True)\n",
    "            tables = self.sqlHelper.read_all_data()\n",
    "            tables_list = ['Pick a table'] + [table[0]+'.'+table[1] for table in tables]\n",
    "            self.tables_dropdown.options = tables_list\n",
    "            self.tables_dropdown.value = tables_list[0]\n",
    "            self.tables_dropdown.disabled = False\n",
    "\n",
    "            self.tables_dropdown.observe(self.update_models)\n",
    "        \n",
    "    def update_models(self, *args):\n",
    "        if not self.lock_observe_1:\n",
    "            models_list = ['Pick a model'] + [self.DEFAULT_TRAIN_OPTION] + \\\n",
    "                [file for file in os.listdir(self.DEFAULT_MODELS_PATH)]\n",
    "            self.models_dropdown.options = models_list\n",
    "            self.models_dropdown.value = models_list[0]\n",
    "            self.models_dropdown.disabled = False\n",
    "\n",
    "            self.models_dropdown.observe(self.use_old_model_or_train_new)\n",
    "        \n",
    "    def use_old_model_or_train_new(self, *args):\n",
    "        if self.models_dropdown.value == self.DEFAULT_TRAIN_OPTION:\n",
    "            self.update_class_id_data_columns()\n",
    "            self.continuation_button.disabled = True\n",
    "        else:\n",
    "            self.class_column.disabled = True\n",
    "            self.id_column.disabled = True \n",
    "            self.data_columns.disabled = True\n",
    "            self.text_columns.disabled = True\n",
    "            self.continuation_button.on_click(callback=self.continuation_button_was_clicked)\n",
    "            self.continuation_button.disabled = False\n",
    "        \n",
    "    def update_class_id_data_columns(self, *args):\n",
    "        query = \"SELECT COLUMN_NAME FROM INFORMATION_SCHEMA.COLUMNS WHERE TABLE_CATALOG = \" \\\n",
    "            + \"\\'\" + self.database_dropdown.value + \"\\' AND CONCAT(CONCAT(TABLE_SCHEMA,'.'),TABLE_NAME) = \" \\\n",
    "            + \"\\'\" + self.tables_dropdown.value + \"\\'\"\n",
    "        self.sqlHelper.execute_query(query, get_data = True)\n",
    "        columns = self.sqlHelper.read_all_data()\n",
    "        columns_list = [column[0] for column in columns]\n",
    "        \n",
    "        if len(columns_list) >= 3:\n",
    "            self.class_column.options = columns_list\n",
    "            self.class_column.value = columns_list[0]\n",
    "            self.class_column.disabled = False\n",
    "            self.class_column.observe(self.update_id_and_data_columns)\n",
    "\n",
    "            self.id_column.options = columns_list[1:]\n",
    "            self.id_column.value = columns_list[1]\n",
    "            self.id_column.disabled = False\n",
    "            self.id_column.observe(self.update_data_columns)\n",
    "\n",
    "            self.data_columns.options = columns_list[2:]\n",
    "            self.data_columns.value = []\n",
    "            self.data_columns.disabled = False\n",
    "            self.data_columns.observe(self.update_text_columns_and_enable_button)\n",
    "        else:\n",
    "            sys.exit(\"Selected data table has to few columns. Minimum is three (3).\")\n",
    "            \n",
    "    def update_id_and_data_columns(self, *args):\n",
    "        self.id_column.options = \\\n",
    "            [option for option in self.class_column.options if option != self.class_column.value]\n",
    "        self.update_data_columns(*args)\n",
    "\n",
    "    def update_data_columns(self, *args):\n",
    "        self.data_columns.options = \\\n",
    "            [option for option in self.id_column.options if option != self.id_column.value]\n",
    "            \n",
    "    def update_text_columns_and_enable_button(self, *args):\n",
    "        self.text_columns.options = self.data_columns.value\n",
    "        self.text_columns.value = []\n",
    "        self.text_columns.disabled = False\n",
    "        \n",
    "        if len(self.data_columns.value) >= 1:\n",
    "            self.continuation_button.disabled = False\n",
    "            self.continuation_button.on_click(callback=self.continuation_button_was_clicked)\n",
    "        else:\n",
    "            self.continuation_button.disabled = True\n",
    "                \n",
    "    def update_continuation_label(self, *args):\n",
    "        self.continuation.value = \\\n",
    "            \"You picked the following settings: \\n\\t Class column: {} \\n\\t Unique id: {} \\n\\t Data column: {}\\n\".\\\n",
    "            format(self.class_column.value,self.id_column.value, ', '.join(self.data_columns.value)) + \\\n",
    "            \"\\n\" + \"Now specify what data columns that contain text (the others will assume to be numerical):\"\n",
    "        self.continuation.disabled = False\n",
    "        \n",
    "    def continuation_button_was_clicked(self, *args):\n",
    "        self.lock_observe_1 = True\n",
    "        if self.models_dropdown.value != self.DEFAULT_TRAIN_OPTION:\n",
    "            self.train_checkbox.value = False\n",
    "            self.train_checkbox.disabled = True\n",
    "            self.predict_checkbox.value = True\n",
    "            self.predict_checkbox.disabled = True\n",
    "            self.mispredicted_checkbox.value = False\n",
    "            self.mispredicted_checkbox.disabled = True\n",
    "        else:\n",
    "            self.train_checkbox.value = True\n",
    "            self.train_checkbox.disabled = False\n",
    "            self.predict_checkbox.value = False\n",
    "            self.predict_checkbox.disabled = False\n",
    "            self.mispredicted_checkbox.value = False\n",
    "            self.mispredicted_checkbox.disabled = False\n",
    "        self.project.disabled = True\n",
    "        self.database_dropdown.disabled = True\n",
    "        self.tables_dropdown.disabled = True\n",
    "        self.models_dropdown.disabled = True\n",
    "        self.class_column.disabled = True\n",
    "        self.id_column.disabled = True\n",
    "        self.data_columns.disabled = True\n",
    "        self.text_columns.disabled = True\n",
    "\n",
    "# Create GUI object\n",
    "gui = IAFautoclass_GUI()"
   ]
  },
  {
   "cell_type": "code",
   "execution_count": 4,
   "id": "e2e34f58-805d-478d-b862-b11c36296b34",
   "metadata": {
    "tags": []
   },
   "outputs": [
    {
     "data": {
      "application/vnd.jupyter.widget-view+json": {
       "model_id": "eaa8edaf0f8943f29775d7ef03dcb662",
       "version_major": 2,
       "version_minor": 0
      },
      "text/plain": [
       "Label(value='*** Welcome to IAF automatic classification! ***')"
      ]
     },
     "metadata": {},
     "output_type": "display_data"
    },
    {
     "data": {
      "application/vnd.jupyter.widget-view+json": {
       "model_id": "42c71b2e71fd4dc5aef43529a64590ef",
       "version_major": 2,
       "version_minor": 0
      },
      "text/plain": [
       "Text(value='default', description='Project name:', placeholder='Project name')"
      ]
     },
     "metadata": {},
     "output_type": "display_data"
    },
    {
     "data": {
      "application/vnd.jupyter.widget-view+json": {
       "model_id": "95c0a2ae83d24cc78e5123c0479ead0e",
       "version_major": 2,
       "version_minor": 0
      },
      "text/plain": [
       "Dropdown(description='Databases:', options=('', 'master', 'tempdb', 'model', 'msdb', 'AF', 'astat3_gallring', …"
      ]
     },
     "metadata": {},
     "output_type": "display_data"
    },
    {
     "data": {
      "application/vnd.jupyter.widget-view+json": {
       "model_id": "6b63ac75171243da863b4df0cda87082",
       "version_major": 2,
       "version_minor": 0
      },
      "text/plain": [
       "Dropdown(description='Tables:', disabled=True, options=('N/A',), value='N/A')"
      ]
     },
     "metadata": {},
     "output_type": "display_data"
    },
    {
     "data": {
      "application/vnd.jupyter.widget-view+json": {
       "model_id": "5fda0dfe0d7644a9a06421e705b91eab",
       "version_major": 2,
       "version_minor": 0
      },
      "text/plain": [
       "Dropdown(description='Models:', disabled=True, options=('N/A',), value='N/A')"
      ]
     },
     "metadata": {},
     "output_type": "display_data"
    },
    {
     "data": {
      "application/vnd.jupyter.widget-view+json": {
       "model_id": "684c57a39995401d9dfdf3b083a7bb3d",
       "version_major": 2,
       "version_minor": 0
      },
      "text/plain": [
       "RadioButtons(description='Class:', disabled=True, options=('N/A',), value='N/A')"
      ]
     },
     "metadata": {},
     "output_type": "display_data"
    },
    {
     "data": {
      "application/vnd.jupyter.widget-view+json": {
       "model_id": "7006cb1e81e440fe9f9ea2c3a03932c1",
       "version_major": 2,
       "version_minor": 0
      },
      "text/plain": [
       "RadioButtons(description='Unique id:', disabled=True, options=('N/A',), value='N/A')"
      ]
     },
     "metadata": {},
     "output_type": "display_data"
    },
    {
     "data": {
      "application/vnd.jupyter.widget-view+json": {
       "model_id": "afd4e77fa59e4691b478be982a39cb9a",
       "version_major": 2,
       "version_minor": 0
      },
      "text/plain": [
       "SelectMultiple(description='Data:', disabled=True, options=('N/A',), value=())"
      ]
     },
     "metadata": {},
     "output_type": "display_data"
    },
    {
     "data": {
      "application/vnd.jupyter.widget-view+json": {
       "model_id": "c8f6824b4d84483e9a464b74351ef613",
       "version_major": 2,
       "version_minor": 0
      },
      "text/plain": [
       "Label(value='')"
      ]
     },
     "metadata": {},
     "output_type": "display_data"
    },
    {
     "data": {
      "application/vnd.jupyter.widget-view+json": {
       "model_id": "5e6250241392430b8c70d6165f5e3aa2",
       "version_major": 2,
       "version_minor": 0
      },
      "text/plain": [
       "SelectMultiple(description='Text data:', disabled=True, options=('N/A',), value=())"
      ]
     },
     "metadata": {},
     "output_type": "display_data"
    },
    {
     "data": {
      "application/vnd.jupyter.widget-view+json": {
       "model_id": "38984a6263c4464395eba3d4ac8036e4",
       "version_major": 2,
       "version_minor": 0
      },
      "text/plain": [
       "Button(button_style='success', description='Continue', disabled=True, icon='check', style=ButtonStyle(), toolt…"
      ]
     },
     "metadata": {},
     "output_type": "display_data"
    },
    {
     "data": {
      "application/vnd.jupyter.widget-view+json": {
       "model_id": "e6de959c968b45b3976c10ecb3ab85a1",
       "version_major": 2,
       "version_minor": 0
      },
      "text/plain": [
       "Box(children=(Label(value='Mode:'), Checkbox(value=False, description='Train', disabled=True), Checkbox(value=…"
      ]
     },
     "metadata": {},
     "output_type": "display_data"
    }
   ],
   "source": [
    "# Welcome message\n",
    "display(gui.welcome)\n",
    "\n",
    "# Project name\n",
    "display(gui.project)\n",
    "\n",
    "# Database dropdown list\n",
    "display(gui.database_dropdown)\n",
    "\n",
    "# Tables dropdown list\n",
    "display(gui.tables_dropdown)\n",
    "\n",
    "# Models dropdown list\n",
    "display(gui.models_dropdown)\n",
    "\n",
    "# Choosing class column, unique id column and data columns\n",
    "display(gui.class_column)\n",
    "display(gui.id_column)\n",
    "display(gui.data_columns)\n",
    "display(gui.continuation)\n",
    "display(gui.text_columns)\n",
    "\n",
    "# Press a button to continue\n",
    "display(gui.continuation_button)\n",
    "\n",
    "display(gui.checkboxes_form)"
   ]
  },
  {
   "cell_type": "code",
   "execution_count": null,
   "id": "1e29f577-2183-407a-8636-871255286875",
   "metadata": {},
   "outputs": [],
   "source": []
  }
 ],
 "metadata": {
  "kernelspec": {
   "display_name": "Python 3 (ipykernel)",
   "language": "python",
   "name": "python3"
  },
  "language_info": {
   "codemirror_mode": {
    "name": "ipython",
    "version": 3
   },
   "file_extension": ".py",
   "mimetype": "text/x-python",
   "name": "python",
   "nbconvert_exporter": "python",
   "pygments_lexer": "ipython3",
   "version": "3.9.5"
  }
 },
 "nbformat": 4,
 "nbformat_minor": 5
}
